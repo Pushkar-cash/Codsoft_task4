{
  "nbformat": 4,
  "nbformat_minor": 0,
  "metadata": {
    "colab": {
      "provenance": [],
      "include_colab_link": true
    },
    "kernelspec": {
      "name": "python3",
      "display_name": "Python 3"
    },
    "language_info": {
      "name": "python"
    }
  },
  "cells": [
    {
      "cell_type": "markdown",
      "metadata": {
        "id": "view-in-github",
        "colab_type": "text"
      },
      "source": [
        "<a href=\"https://colab.research.google.com/github/Pushkar-cash/Codsoft_task4/blob/main/task4.ipynb\" target=\"_parent\"><img src=\"https://colab.research.google.com/assets/colab-badge.svg\" alt=\"Open In Colab\"/></a>"
      ]
    },
    {
      "cell_type": "code",
      "execution_count": null,
      "metadata": {
        "colab": {
          "base_uri": "https://localhost:8080/"
        },
        "id": "qiXENeo7ecV5",
        "outputId": "8c4d8a8a-8704-4eb8-e920-81275c8c9ad9"
      },
      "outputs": [
        {
          "output_type": "stream",
          "name": "stdout",
          "text": [
            "Recommended movies for User 1:\n",
            "Iron-Man\n",
            "Recommended movies for User 2:\n",
            "KGF\n",
            "Recommended movies for User 3:\n",
            "Avengers\n"
          ]
        }
      ],
      "source": [
        "import numpy as np\n",
        "\n",
        "# User preferences for movies (1 = liked, 0 = didn't like)\n",
        "\n",
        "user_movie_preferences = np.array([\n",
        "    [1, 1, 0, 1, 0],  # User 1\n",
        "    [0, 1, 1, 1, 0],  # User 2\n",
        "    [1, 0, 0, 1, 1],  # User 3\n",
        "    [0, 1, 1, 0, 0],  # User 4\n",
        "    [1, 0, 1, 0, 1]   # User 5\n",
        "])\n",
        "\n",
        "\n",
        "movie_titles = [\"KGF\", \"Avengers\", \"Iron-Man\", \"Dhamaal\", \"Tumbaad\"]\n",
        "\n",
        "def recommend_movies(user_id):\n",
        "    similarities = []\n",
        "    for i in range(len(user_movie_preferences)):\n",
        "        if i != user_id:\n",
        "            similarity = np.dot(user_movie_preferences[user_id], user_movie_preferences[i]) / (\n",
        "                        np.linalg.norm(user_movie_preferences[user_id]) * np.linalg.norm(user_movie_preferences[i]))\n",
        "            similarities.append((i, similarity))\n",
        "\n",
        "    similarities.sort(key=lambda x: x[1], reverse=True)\n",
        "\n",
        "    recommended_movies = []\n",
        "    for movie_idx in range(len(user_movie_preferences[user_id])):\n",
        "        if user_movie_preferences[user_id][movie_idx] == 0:\n",
        "            for similar_user, similarity in similarities:\n",
        "                if user_movie_preferences[similar_user][movie_idx] == 1:\n",
        "                    recommended_movies.append(movie_titles[movie_idx])\n",
        "                    break\n",
        "            break\n",
        "    return recommended_movies\n",
        "user_id = 0\n",
        "for  i in range(0,3):\n",
        "\n",
        "    recommended_movies = recommend_movies(user_id)\n",
        "\n",
        "    print(f\"Recommended movies for User {user_id + 1}:\")\n",
        "    for movie in recommended_movies:\n",
        "        print(movie)\n",
        "    user_id=user_id+1"
      ]
    }
  ]
}